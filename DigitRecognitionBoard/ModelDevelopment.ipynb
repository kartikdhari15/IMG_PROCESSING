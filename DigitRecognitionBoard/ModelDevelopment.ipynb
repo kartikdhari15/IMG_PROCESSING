{
 "cells": [
  {
   "cell_type": "code",
   "execution_count": 8,
   "id": "be091f15",
   "metadata": {},
   "outputs": [],
   "source": [
    "from keras.datasets import mnist"
   ]
  },
  {
   "cell_type": "code",
   "execution_count": 64,
   "id": "5d4b2632",
   "metadata": {},
   "outputs": [
    {
     "name": "stdout",
     "output_type": "stream",
     "text": [
      "60000/60000 [==============================] - 217s 4ms/step - loss: 0.2848 - acc: 0.9178\n"
     ]
    },
    {
     "data": {
      "text/plain": [
       "<keras.callbacks.History at 0x2cbce8d6940>"
      ]
     },
     "execution_count": 64,
     "metadata": {},
     "output_type": "execute_result"
    }
   ],
   "source": [
    "import matplotlib.pyplot as plt\n",
    "\n",
    "(x_train,y_train),(x_test,y_test)=mnist.load_data()\n",
    "#print(x_train.shape)\n",
    "#plt.imshow(x_train[0],cmap='gray')\n",
    "#plt.title(y_train[0])\n",
    "#plt.show()\n",
    "\n",
    "#Model Creation\n",
    "\n",
    "from keras.layers import Dense,Conv2D,AveragePooling2D,Flatten\n",
    "from keras.models import Sequential\n",
    "\n",
    "model=Sequential()\n",
    "model.add(Conv2D(filters=4,kernel_size=(5,5),\n",
    "                 activation='relu',input_shape=(28,28,1)))\n",
    "model.add(AveragePooling2D(pool_size=(2,2)))\n",
    "model.add(Conv2D(filters=4,kernel_size=(7,7),\n",
    "                 activation='relu'))\n",
    "model.add(AveragePooling2D(pool_size=(2,2)))\n",
    "model.add(Flatten())\n",
    "model.add(Dense(units=10,activation='softmax'))\n",
    "model.compile(loss='sparse_categorical_crossentropy',optimizer='adam',\n",
    "              metrics=['acc'])\n",
    "#model.summary()\n",
    "#model.fit(x_train,y_train,epochs=1,batch_size=1)\n",
    "#test=x_test[10].reshape(-1,28,28,1)\n",
    "#print(test.shape)\n",
    "#model.predict_classes(test)"
   ]
  },
  {
   "cell_type": "code",
   "execution_count": 71,
   "id": "27783ba4",
   "metadata": {},
   "outputs": [
    {
     "data": {
      "text/plain": [
       "<matplotlib.image.AxesImage at 0x2cbce51d8b0>"
      ]
     },
     "execution_count": 71,
     "metadata": {},
     "output_type": "execute_result"
    },
    {
     "data": {
      "image/png": "[encoded data removed]",
      "text/plain": [
       "<Figure size 432x288 with 1 Axes>"
      ]
     },
     "metadata": {
      "needs_background": "light"
     },
     "output_type": "display_data"
    }
   ],
   "source": [
    "plt.imshow(x_test[78])"
   ]
  },
  {
   "cell_type": "code",
   "execution_count": 72,
   "id": "adaf89b5",
   "metadata": {},
   "outputs": [
    {
     "name": "stdout",
     "output_type": "stream",
     "text": [
      "1/1 [==============================] - 0s 38ms/step\n"
     ]
    },
    {
     "data": {
      "text/plain": [
       "array([9], dtype=int64)"
      ]
     },
     "execution_count": 72,
     "metadata": {},
     "output_type": "execute_result"
    }
   ],
   "source": [
    "test=x_test[78].reshape(-1,28,28,1)\n",
    "#model.predict_classes has been deprecated\n",
    "np.argmax(model.predict(test),axis=1)"
   ]
  },
  {
   "cell_type": "code",
   "execution_count": 73,
   "id": "486bb917",
   "metadata": {},
   "outputs": [],
   "source": [
    "model.save(\"./my_model.h5\")"
   ]
  }
 ],
 "metadata": {
  "kernelspec": {
   "display_name": "Python 3 (ipykernel)",
   "language": "python",
   "name": "python3"
  },
  "language_info": {
   "codemirror_mode": {
    "name": "ipython",
    "version": 3
   },
   "file_extension": ".py",
   "mimetype": "text/x-python",
   "name": "python",
   "nbconvert_exporter": "python",
   "pygments_lexer": "ipython3",
   "version": "3.9.12"
  }
 },
 "nbformat": 4,
 "nbformat_minor": 5
}
